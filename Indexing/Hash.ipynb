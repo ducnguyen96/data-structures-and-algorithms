{
 "cells": [
  {
   "cell_type": "code",
   "execution_count": 1,
   "metadata": {},
   "outputs": [],
   "source": [
    "import time"
   ]
  },
  {
   "cell_type": "code",
   "execution_count": 2,
   "metadata": {},
   "outputs": [],
   "source": [
    "class Person:\n",
    "    def __init__(self, name, age = None):\n",
    "        self.age = age\n",
    "        self.name = name\n",
    "\n",
    "    def __eq__(self, other):\n",
    "        return self.age == other.age and self.name == other.name\n",
    "\n",
    "    def __hash__(self):\n",
    "        print('The hash is:')\n",
    "        return hash((self.age, self.name))"
   ]
  },
  {
   "cell_type": "code",
   "execution_count": 3,
   "metadata": {},
   "outputs": [],
   "source": [
    "house = []\n",
    "p1 = Person('Python')\n",
    "p2 = Person('Java')\n",
    "p3 = Person('C')\n",
    "p4 = Person('JS')\n",
    "p5 = Person('Go')\n",
    "p6 = Person('Visual')\n",
    "p7 = Person('Kotlin')\n",
    "p8 = Person('R')"
   ]
  },
  {
   "cell_type": "code",
   "execution_count": 4,
   "metadata": {},
   "outputs": [],
   "source": [
    "def search_v1(person):\n",
    "    start = time.time()\n",
    "    for i in range(len(house1)):\n",
    "        if house1[i] == person:\n",
    "            end = time.time()\n",
    "            return i, end - start\n",
    "    end = time.time()\n",
    "    return None, end-time()"
   ]
  },
  {
   "cell_type": "code",
   "execution_count": 5,
   "metadata": {},
   "outputs": [],
   "source": [
    "house1 = [p1, p2, p3, p4, p5, p6, p7, p8]"
   ]
  },
  {
   "cell_type": "code",
   "execution_count": 6,
   "metadata": {},
   "outputs": [
    {
     "name": "stdout",
     "output_type": "stream",
     "text": [
      "5 9.5367431640625e-06\n"
     ]
    }
   ],
   "source": [
    "pos1, t1 = search_v1(p6)\n",
    "print(pos1, t1)"
   ]
  },
  {
   "cell_type": "code",
   "execution_count": 7,
   "metadata": {},
   "outputs": [],
   "source": [
    "def hash_v1(per):\n",
    "    house2[id(per)%6] = per\n",
    "    \n",
    "def search_v2(person):\n",
    "    start = time.time()\n",
    "    code = id(person)%6\n",
    "    if house2[code] == person:\n",
    "        end = time.time()\n",
    "        return code, end - start\n",
    "    end = time.time()\n",
    "    return None, end-start\n"
   ]
  },
  {
   "cell_type": "code",
   "execution_count": 8,
   "metadata": {},
   "outputs": [],
   "source": [
    "house2 = [i for i in range(10, 20)]\n",
    "for per in house1:\n",
    "    hash_v1(per)"
   ]
  },
  {
   "cell_type": "code",
   "execution_count": 9,
   "metadata": {},
   "outputs": [
    {
     "name": "stdout",
     "output_type": "stream",
     "text": [
      "4 2.86102294921875e-06\n"
     ]
    }
   ],
   "source": [
    "pos2, t2 = search_v2(p8)\n",
    "print(pos2, t2)"
   ]
  },
  {
   "cell_type": "code",
   "execution_count": 10,
   "metadata": {},
   "outputs": [
    {
     "data": {
      "text/plain": [
       "3.3333333333333335"
      ]
     },
     "execution_count": 10,
     "metadata": {},
     "output_type": "execute_result"
    }
   ],
   "source": [
    "t1/t2"
   ]
  },
  {
   "cell_type": "code",
   "execution_count": 11,
   "metadata": {},
   "outputs": [
    {
     "name": "stdout",
     "output_type": "stream",
     "text": [
      "7 9.5367431640625e-06\n",
      "4 3.337860107421875e-06\n"
     ]
    }
   ],
   "source": [
    "pos1, t1 = search_v1(p8)\n",
    "print(pos1, t1)\n",
    "pos2, t2 = search_v2(p8)\n",
    "print(pos2, t2)"
   ]
  },
  {
   "cell_type": "code",
   "execution_count": 12,
   "metadata": {},
   "outputs": [
    {
     "data": {
      "text/plain": [
       "2.857142857142857"
      ]
     },
     "execution_count": 12,
     "metadata": {},
     "output_type": "execute_result"
    }
   ],
   "source": [
    "t1/t2"
   ]
  },
  {
   "cell_type": "markdown",
   "metadata": {},
   "source": [
    "search_v1 takes 2.85 times longer than search_v2 to looking for the last object."
   ]
  },
  {
   "cell_type": "code",
   "execution_count": 13,
   "metadata": {},
   "outputs": [
    {
     "data": {
      "text/plain": [
       "[<__main__.Person at 0x7fed286dbd30>,\n",
       " 11,\n",
       " <__main__.Person at 0x7fed286dbd68>,\n",
       " 13,\n",
       " <__main__.Person at 0x7fed286dbda0>,\n",
       " 15,\n",
       " 16,\n",
       " 17,\n",
       " 18,\n",
       " 19]"
      ]
     },
     "execution_count": 13,
     "metadata": {},
     "output_type": "execute_result"
    }
   ],
   "source": [
    "house2"
   ]
  },
  {
   "cell_type": "markdown",
   "metadata": {},
   "source": [
    "We put 8 person into house2 but now it seems like we've lost 5 of thems. --> Collisions"
   ]
  },
  {
   "cell_type": "markdown",
   "metadata": {},
   "source": [
    "### Collision\n",
    "\n",
    "There are two main ways to fix a collision\n",
    "\n",
    "    * The first is to change the value in your hash function or the change the hash function completely, os you have more than enough slots to store all your potential values. -> Closed Hashing\n",
    "    \n",
    "    * You can also keep your original hash function but change the strucutre of your array. You can store some type of lists that contains all values hashed at that spot. These lists are generally called buckets in this context. -> Open Hashing\n",
    "    \n",
    "Cons and Pros:\n",
    "\n",
    "    * By using a bigger number in your hash function, you're aoing to require a lot more space to store your values. Also if you do this reactively and change the value in your hash function everytime you have a collision, moving all of your data to a new array is going to definitely increase the complexity in terms of both size and time.\n",
    "    \n",
    "    * With the bucket approach, you still need to iterate through some collection though a shorter one, every time you're looking for something. You could store every value in one bucket and then you're still essentially just iterating through a list.\n",
    "    Ideally, you would have one to three elements stored in each bucket. So you can design a hash function with that in mind.\n",
    "    You can also use second hash function inside of a large bucket to split up those elements even more.\n",
    "    \n",
    "\n",
    "Example:\n",
    "One of your coworkers comes to you with a hash function that divides a group of values by 100, and uses the remainder as a key. The values are 100 numbers are all mutiples of 5.\n",
    "He thinks it's a little slow - what number would you recommend his function to divide by rather than 100 to speed it up?\n",
    "\n",
    "A: 87,  B: 107,  C: 125,  D:1001\n",
    "\n",
    "125 is a mutiple of 5. Dividing a bunch of mutiples of 5 by another mutiple of 5 will cause a lot of collisions.\n",
    "\n",
    "\n",
    "87 is better than 125 but because it's less than 100 it'll still have collisions\n",
    "\n",
    "\n",
    "1001 is good, but it'll create a ton of leftover buckets and waste a lot of memory."
   ]
  },
  {
   "cell_type": "code",
   "execution_count": 14,
   "metadata": {},
   "outputs": [],
   "source": [
    "from random import randint"
   ]
  },
  {
   "cell_type": "code",
   "execution_count": 50,
   "metadata": {},
   "outputs": [
    {
     "name": "stdout",
     "output_type": "stream",
     "text": [
      "100 100\n"
     ]
    }
   ],
   "source": [
    "l = [randint(1, 2500)*5 for i in range(100)]\n",
    "print(len(l), len(set(l)))"
   ]
  },
  {
   "cell_type": "markdown",
   "metadata": {},
   "source": [
    "We have a list l with 100 multiples of 5"
   ]
  },
  {
   "cell_type": "code",
   "execution_count": 51,
   "metadata": {},
   "outputs": [],
   "source": [
    "def search_linear(number):\n",
    "    start = time.time()\n",
    "    for i in range(len(l)):\n",
    "        if l[i] == number:\n",
    "            end = time.time()\n",
    "            return i, end-start\n",
    "    end = time.time()\n",
    "    return None, end-start"
   ]
  },
  {
   "cell_type": "code",
   "execution_count": 70,
   "metadata": {},
   "outputs": [
    {
     "name": "stdout",
     "output_type": "stream",
     "text": [
      "71 1.9550323486328125e-05\n"
     ]
    }
   ],
   "source": [
    "index, time_linear = search_linear(7795)\n",
    "print(index, time_linear)"
   ]
  },
  {
   "cell_type": "code",
   "execution_count": 71,
   "metadata": {},
   "outputs": [],
   "source": [
    "hashed_l = [0 for i in range(130)]\n",
    "for numb in l:\n",
    "    hashed_l[numb%87] = numb"
   ]
  },
  {
   "cell_type": "code",
   "execution_count": 72,
   "metadata": {},
   "outputs": [],
   "source": [
    "def search_hash(number):\n",
    "    start = time.time()\n",
    "    if hashed_l[number%87] == number:\n",
    "        end = time.time()\n",
    "        return number%87, end-start\n",
    "    end = time.time()\n",
    "    return None, end-start"
   ]
  },
  {
   "cell_type": "code",
   "execution_count": 73,
   "metadata": {},
   "outputs": [
    {
     "name": "stdout",
     "output_type": "stream",
     "text": [
      "52 2.1457672119140625e-06\n"
     ]
    }
   ],
   "source": [
    "index, time_hash = search_hash(7795)\n",
    "print(index, time_hash)"
   ]
  },
  {
   "cell_type": "code",
   "execution_count": 74,
   "metadata": {},
   "outputs": [
    {
     "data": {
      "text/plain": [
       "9.11111111111111"
      ]
     },
     "execution_count": 74,
     "metadata": {},
     "output_type": "execute_result"
    }
   ],
   "source": [
    "time_linear/time_hash"
   ]
  },
  {
   "cell_type": "markdown",
   "metadata": {},
   "source": [
    "search_hash 9.1 times faster than search_linear. but let check collisions.\n",
    "\n",
    "If we use 87 as a factor then our hashed numbers will be put in hashed_l[0:87]."
   ]
  },
  {
   "cell_type": "code",
   "execution_count": 75,
   "metadata": {},
   "outputs": [
    {
     "data": {
      "text/plain": [
       "58"
      ]
     },
     "execution_count": 75,
     "metadata": {},
     "output_type": "execute_result"
    }
   ],
   "source": [
    "numbers = 0\n",
    "for i in range(87):\n",
    "    if hashed_l[i] != 0:\n",
    "        numbers += 1\n",
    "numbers"
   ]
  },
  {
   "cell_type": "markdown",
   "metadata": {},
   "source": [
    "There are 58 numbers in hashed_l so there were 42 collision. \n",
    "\n",
    "Let's change the factor !\n",
    "\n",
    "Try 125 first."
   ]
  },
  {
   "cell_type": "code",
   "execution_count": 76,
   "metadata": {},
   "outputs": [],
   "source": [
    "hashed_l = [0 for i in range(130)]\n",
    "for numb in l:\n",
    "    hashed_l[numb%125] = numb"
   ]
  },
  {
   "cell_type": "code",
   "execution_count": 77,
   "metadata": {},
   "outputs": [],
   "source": [
    "def search_hash(number):\n",
    "    start = time.time()\n",
    "    if hashed_l[number%125] == number:\n",
    "        end = time.time()\n",
    "        return number%125, end-start\n",
    "    end = time.time()\n",
    "    return None, end-start"
   ]
  },
  {
   "cell_type": "code",
   "execution_count": 78,
   "metadata": {},
   "outputs": [
    {
     "name": "stdout",
     "output_type": "stream",
     "text": [
      "None 9.5367431640625e-07\n"
     ]
    }
   ],
   "source": [
    "index, time_hash = search_hash(7795)\n",
    "print(index, time_hash)"
   ]
  },
  {
   "cell_type": "code",
   "execution_count": 79,
   "metadata": {},
   "outputs": [
    {
     "data": {
      "text/plain": [
       "20.5"
      ]
     },
     "execution_count": 79,
     "metadata": {},
     "output_type": "execute_result"
    }
   ],
   "source": [
    "time_linear/time_hash"
   ]
  },
  {
   "cell_type": "markdown",
   "metadata": {},
   "source": [
    "search_hash 20.5 times faster than search_linear. but let check collisions. it seems like there were collision with 7795*5\n",
    "\n",
    "If we use 125 as a factor then our hashed numbers will be put in hashed_l[0:125]. "
   ]
  },
  {
   "cell_type": "code",
   "execution_count": 80,
   "metadata": {},
   "outputs": [
    {
     "data": {
      "text/plain": [
       "24"
      ]
     },
     "execution_count": 80,
     "metadata": {},
     "output_type": "execute_result"
    }
   ],
   "source": [
    "numbers = 0\n",
    "for i in range(125):\n",
    "    if hashed_l[i] != 0:\n",
    "        numbers += 1\n",
    "numbers"
   ]
  },
  {
   "cell_type": "markdown",
   "metadata": {},
   "source": [
    "There are 24 numbers !0 so there were 76 collision !!!!\n",
    "\n",
    "Try 107 !"
   ]
  },
  {
   "cell_type": "code",
   "execution_count": 81,
   "metadata": {},
   "outputs": [],
   "source": [
    "hashed_l = [0 for i in range(130)]\n",
    "for numb in l:\n",
    "    hashed_l[numb%107] = numb"
   ]
  },
  {
   "cell_type": "code",
   "execution_count": 82,
   "metadata": {},
   "outputs": [],
   "source": [
    "def search_hash(number):\n",
    "    start = time.time()\n",
    "    if hashed_l[number%107] == number:\n",
    "        end = time.time()\n",
    "        return number%107, end-start\n",
    "    end = time.time()\n",
    "    return None, end-start"
   ]
  },
  {
   "cell_type": "code",
   "execution_count": 83,
   "metadata": {},
   "outputs": [
    {
     "name": "stdout",
     "output_type": "stream",
     "text": [
      "91 1.9073486328125e-06\n"
     ]
    }
   ],
   "source": [
    "index, time_hash = search_hash(7795)\n",
    "print(index, time_hash)"
   ]
  },
  {
   "cell_type": "code",
   "execution_count": 84,
   "metadata": {},
   "outputs": [
    {
     "data": {
      "text/plain": [
       "10.25"
      ]
     },
     "execution_count": 84,
     "metadata": {},
     "output_type": "execute_result"
    }
   ],
   "source": [
    "time_linear/time_hash"
   ]
  },
  {
   "cell_type": "markdown",
   "metadata": {},
   "source": [
    "search_hash 10.25 times faster than search_linear. but let check collisions.\n",
    "\n",
    "If we use 107 as a factor then our hashed numbers will be put in hashed_l[0:107]. "
   ]
  },
  {
   "cell_type": "code",
   "execution_count": 85,
   "metadata": {},
   "outputs": [
    {
     "data": {
      "text/plain": [
       "65"
      ]
     },
     "execution_count": 85,
     "metadata": {},
     "output_type": "execute_result"
    }
   ],
   "source": [
    "numbers = 0\n",
    "for i in range(125):\n",
    "    if hashed_l[i] != 0:\n",
    "        numbers += 1\n",
    "numbers"
   ]
  },
  {
   "cell_type": "markdown",
   "metadata": {},
   "source": [
    "There are 65 numbers !0 so there were 35 collision !!!!\n",
    "\n",
    "Conclusion: 87 is pretty good but consider between space complexity and collision, 107 is much better !"
   ]
  },
  {
   "cell_type": "code",
   "execution_count": null,
   "metadata": {},
   "outputs": [],
   "source": []
  }
 ],
 "metadata": {
  "kernelspec": {
   "display_name": "Python 3",
   "language": "python",
   "name": "python3"
  },
  "language_info": {
   "codemirror_mode": {
    "name": "ipython",
    "version": 3
   },
   "file_extension": ".py",
   "mimetype": "text/x-python",
   "name": "python",
   "nbconvert_exporter": "python",
   "pygments_lexer": "ipython3",
   "version": "3.7.3"
  }
 },
 "nbformat": 4,
 "nbformat_minor": 2
}
