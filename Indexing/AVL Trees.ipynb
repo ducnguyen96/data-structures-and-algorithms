{
 "cells": [
  {
   "cell_type": "markdown",
   "metadata": {},
   "source": [
    "## AVL Trees\n",
    "\n",
    "**Note**: Có thể kiểm tra nhanh các hàm dưới đây bằng cách em visualization theo link [này](https://www.cs.usfca.edu/~galles/visualization/AVLtree.html)\n",
    "\n",
    "<ins>**Định nghĩa**</ins>: Cây AVL là một cây Binary Search Tree với các đặc điểm:**Tại mỗi đỉnh của cây, độ cao của cây con trái và cây con phải không chênh lệch quá 1.**\n",
    "       \n",
    "\n",
    "<ins>**Mục đích**</ins>: Không để một cây BST suy biến thành một **LinkedList**, để quá trình tìm kiếm trên BST luôn tốt trong mọi trường hợp.\n",
    "\n",
    "### 1. Hệ số cân bằng\n",
    "Hệ số cân bằng của cây T là hiệu số  giữa các chiều cao của cây con trái và cây con phải của nỏ.\n",
    "\n",
    "Ký hiệu hệ số cân bằng của cây con gốc u là **balance(u)**. Hệ số cân bằng của cây T là **balance(T)**\n",
    "\n",
    "$$balance(u) = height(u.left) - height(u.right)$$\n",
    "\n",
    "### 2. Các trường hợp mất cân bằng\n",
    "\n",
    "* Mất cân bằng trái trái (L-L):\n",
    "![alt](LL.png)\n",
    "* Mất cân bằng trái phải (L-R):\n",
    "![alt](LR.png)\n",
    "* Mất cân bằng phải phải (R-R):\n",
    "![alt](RR.png)\n",
    "* Mất cân bằng phải trái (R-L):\n",
    "![alt](RL.png)\n",
    "\n",
    "### 3. Xây dựng cây cân bằng\n",
    "\n",
    "* Việc xây dựng cây cân bằng dựa trên BST, chỉ bổ sung thêm 1 giá trị cho biết sự cân bằng của các cây con như thế nào.\n",
    "\n",
    "* Trong đó giá trị cân bằng (balance) có thể  là 0: cân bằng, lệch trái hoặc lệch phải."
   ]
  },
  {
   "cell_type": "code",
   "execution_count": 64,
   "metadata": {},
   "outputs": [],
   "source": [
    "class Node(object):\n",
    "    def __init__(self, value):\n",
    "        self.value = value\n",
    "        self.right = None\n",
    "        self.left = None\n",
    "        self.parent = None\n",
    "        self.height = 1\n",
    "        \n",
    "class AVLTree(object):\n",
    "    # Khởi tạo với root\n",
    "    def __init__(self, root=None):\n",
    "        self.root = Node(root)\n",
    "        \n",
    "    def insert(self, value):\n",
    "        node = Node(value)\n",
    "        '''\n",
    "        Sau khi insert 1 node mới thì cập nhật lại height cho các node\n",
    "        parent của node đó, trong quá trình cập nhật thì kiểm tra độ\n",
    "        cân bằng của từng nốt parent -> nếu abs(balance) = 2 thì cây\n",
    "        mất cân bằng -> cân bằng lại cây\n",
    "        '''\n",
    "        self.insert_helper(self.root, node)\n",
    "        self.update_height(node)\n",
    "            \n",
    "    def insert_helper(self, current, node):\n",
    "        '''\n",
    "        Hàm hỗ trợ này sẽ đi theo thứ tự của cây BST\n",
    "        Bé thua parent thì sẽ đi về bên trái, ngược lại sẽ đi về  phải.\n",
    "        Đi cho đến khi 1 vị trí current nào đó đang None thì điền node\n",
    "        này vào chỗ đó, cùng lúc đó thì gắn parent cho nó luôn.\n",
    "        '''\n",
    "        if current:\n",
    "            if node.value < current.value:\n",
    "                if current.left == None:\n",
    "                    current.left = node\n",
    "                    node.parent = current\n",
    "                else:\n",
    "                    self.insert_helper(current.left, node)\n",
    "            else:\n",
    "                if current.right == None:\n",
    "                    current.right = node\n",
    "                    node.parent = current\n",
    "                else:\n",
    "                    self.insert_helper(current.right, node)\n",
    "        else:\n",
    "            current = node\n",
    "            node.parent = current\n",
    "    \n",
    "    def balance(self, node):\n",
    "        '''\n",
    "        Tính độ cân bằng tại 1 node bất kỳ. Độ cân bằng của 1 node\n",
    "        chính là chiều cao của node con bên trái trừ đi chiều cao của \n",
    "        node con bên phải.\n",
    "        \n",
    "        Trường hợp 1 node là None thì nó chỉ có 1 node con là root vì \n",
    "        vậy trả về giá trị 0\n",
    "        '''\n",
    "        if node == None:\n",
    "            return 0\n",
    "        if node.left == None:\n",
    "            height_left = 0\n",
    "        else:\n",
    "            height_left = node.left.height\n",
    "        \n",
    "        if node.right == None:\n",
    "            height_right = 0\n",
    "        else:\n",
    "            height_right = node.right.height\n",
    "        \n",
    "        return height_left - height_right\n",
    "    \n",
    "    def update_height(self, node):\n",
    "        '''\n",
    "        Vì mình chỉ cập nhật chiều cao cho các node parent khi\n",
    "        chiều cao của node con bằng chiều cao của nó.\n",
    "\n",
    "        Từ đó dẫn tới việc khi đệ quy thì nó quy về luôn cả root.\n",
    "        Để tránh trường hợp tính balance bị lỗi vì None value, mình \n",
    "        sẽ thoát khỏi vòng đệ quy cho nó.\n",
    "        '''\n",
    "        if node == self.root:\n",
    "            return \n",
    "        if node.height == node.parent.height:\n",
    "            node.parent.height += 1\n",
    "            balance = self.balance(node.parent.parent)\n",
    "            '''\n",
    "            Cây sẽ bị mất cân bằng khi đọ chênh lệch chiều cao lớn hơn\n",
    "            hoặc bằng 2.\n",
    "            '''\n",
    "            if balance >= 2:\n",
    "                if self.balance(node.parent) == 1:\n",
    "                    print(\"LL\")\n",
    "                    self.rotate(node.parent, \"LL\")\n",
    "                    return\n",
    "                elif self.balance(node.parent) == -1:\n",
    "                    print(\"LR\")\n",
    "                    self.rotate(node.parent, \"LR\")\n",
    "                    return\n",
    "            elif balance <= -2:\n",
    "                if self.balance(node.parent) == -1:\n",
    "                    print(\"RR\")\n",
    "                    self.rotate(node.parent, \"RR\")\n",
    "                    return\n",
    "                elif self.balance(node.parent) == 1:\n",
    "                    print(\"RL\")\n",
    "                    self.rotate(node.parent, \"RL\")\n",
    "                    return\n",
    "            self.update_height(node.parent)\n",
    "\n",
    "    def rotate(self, node, case):\n",
    "        '''\n",
    "        Cân bằng lại cây theo hình bên dưới.\n",
    "        '''\n",
    "        if case == \"LL\":\n",
    "            temp = node.parent\n",
    "            if temp.parent:\n",
    "                temp.parent.left = node\n",
    "            else:\n",
    "                self.root = node\n",
    "            node.right = temp\n",
    "            temp.parent = node\n",
    "            temp.height -= 1\n",
    "            temp.left = None\n",
    "            \n",
    "        if case == \"LR\":\n",
    "            node.parent.left = node.right\n",
    "            node.right.parent = node.parent\n",
    "            node.right.left = node\n",
    "            node.right.height += 1\n",
    "            node.parent = node.right\n",
    "            node.right = None\n",
    "            node.height -= 1\n",
    "            self.rotate(node.parent, \"LL\")\n",
    "        \n",
    "        if case == \"RR\":\n",
    "            temp = node.parent\n",
    "            if temp.parent:\n",
    "                temp.parent.right = node\n",
    "            else:\n",
    "                self.root = node\n",
    "            node.left = temp\n",
    "            temp.parent = node\n",
    "            temp.height -= 1\n",
    "            temp.right  = None\n",
    "            \n",
    "        if case == \"RL\":\n",
    "            node.parent.right = node.left\n",
    "            node.left.parent = node.parent\n",
    "            node.left.right = node\n",
    "            node.left.height += 1\n",
    "            node.parent = node.left\n",
    "            node.left = None\n",
    "            node.height -= 1\n",
    "            self.rotate(node.parent, \"RR\")\n",
    "            \n",
    "    def print_dfs(self):\n",
    "        '''\n",
    "        Trả về 1 string traversal là đường đi qua các node trong cây.\n",
    "        '''\n",
    "        return self.print_helper(self.root, \"\")[:-1]\n",
    "    \n",
    "    def print_helper(self, start, traversal):\n",
    "        '''\n",
    "        Đệ quy sử dụng thuật toán DFS(Depth First Search) \n",
    "        để print hết các node trong Tree.\n",
    "        '''\n",
    "        if start:\n",
    "            traversal = self.print_helper(start.left, traversal)\n",
    "            traversal += str(start.value) + \"(%d)\"%start.height + \"-\"\n",
    "            traversal = self.print_helper(start.right, traversal)\n",
    "        return traversal"
   ]
  },
  {
   "cell_type": "markdown",
   "metadata": {},
   "source": [
    "### 4. Rotation\n",
    "\n",
    "* LL Rotation\n",
    "![alt](LL_rotate.png)\n",
    "\n",
    "* LR Rotation\n",
    "![alt](LR_rotate.png)\n",
    "\n",
    "* RR Rotation\n",
    "![alt](RR_rotate.png)\n",
    "\n",
    "* RL Rotation\n",
    "![alt](RL_rotate.png)"
   ]
  },
  {
   "cell_type": "markdown",
   "metadata": {},
   "source": [
    "### Test Trường hợp cây bị mất cân bằng LL\n",
    "* Mất cân bằng trái trái (L-L):\n",
    "![alt](LL.png)"
   ]
  },
  {
   "cell_type": "code",
   "execution_count": 65,
   "metadata": {},
   "outputs": [],
   "source": [
    "tree = AVLTree(12)"
   ]
  },
  {
   "cell_type": "code",
   "execution_count": 66,
   "metadata": {},
   "outputs": [
    {
     "data": {
      "text/plain": [
       "'8(1)-12(2)'"
      ]
     },
     "execution_count": 66,
     "metadata": {},
     "output_type": "execute_result"
    }
   ],
   "source": [
    "tree.insert(8)\n",
    "tree.print_dfs()"
   ]
  },
  {
   "cell_type": "code",
   "execution_count": 67,
   "metadata": {},
   "outputs": [
    {
     "data": {
      "text/plain": [
       "'8(1)-12(2)-18(1)'"
      ]
     },
     "execution_count": 67,
     "metadata": {},
     "output_type": "execute_result"
    }
   ],
   "source": [
    "tree.insert(18)\n",
    "tree.print_dfs()"
   ]
  },
  {
   "cell_type": "code",
   "execution_count": 68,
   "metadata": {},
   "outputs": [
    {
     "data": {
      "text/plain": [
       "'5(1)-8(2)-12(3)-18(1)'"
      ]
     },
     "execution_count": 68,
     "metadata": {},
     "output_type": "execute_result"
    }
   ],
   "source": [
    "tree.insert(5)\n",
    "tree.print_dfs()"
   ]
  },
  {
   "cell_type": "code",
   "execution_count": 69,
   "metadata": {},
   "outputs": [
    {
     "data": {
      "text/plain": [
       "'5(1)-8(2)-12(3)-17(1)-18(2)'"
      ]
     },
     "execution_count": 69,
     "metadata": {},
     "output_type": "execute_result"
    }
   ],
   "source": [
    "tree.insert(17)\n",
    "tree.print_dfs()"
   ]
  },
  {
   "cell_type": "code",
   "execution_count": 70,
   "metadata": {},
   "outputs": [
    {
     "name": "stdout",
     "output_type": "stream",
     "text": [
      "LL\n"
     ]
    },
    {
     "data": {
      "text/plain": [
       "'4(1)-5(2)-8(1)-12(3)-17(1)-18(2)'"
      ]
     },
     "execution_count": 70,
     "metadata": {},
     "output_type": "execute_result"
    }
   ],
   "source": [
    "tree.insert(4)\n",
    "tree.print_dfs()"
   ]
  },
  {
   "cell_type": "markdown",
   "metadata": {},
   "source": [
    "##### Kết quả đúng\n",
    "\n",
    "### Test Trường hợp cây bị mất cân bằng LR\n",
    "* Mất cân bằng trái phải (L-R):\n",
    "![alt](LR.png)"
   ]
  },
  {
   "cell_type": "code",
   "execution_count": 71,
   "metadata": {},
   "outputs": [],
   "source": [
    "tree = AVLTree(12)"
   ]
  },
  {
   "cell_type": "code",
   "execution_count": 72,
   "metadata": {},
   "outputs": [
    {
     "data": {
      "text/plain": [
       "'8(1)-12(2)'"
      ]
     },
     "execution_count": 72,
     "metadata": {},
     "output_type": "execute_result"
    }
   ],
   "source": [
    "tree.insert(8)\n",
    "tree.print_dfs()"
   ]
  },
  {
   "cell_type": "code",
   "execution_count": 73,
   "metadata": {},
   "outputs": [
    {
     "data": {
      "text/plain": [
       "'8(1)-12(2)-18(1)'"
      ]
     },
     "execution_count": 73,
     "metadata": {},
     "output_type": "execute_result"
    }
   ],
   "source": [
    "tree.insert(18)\n",
    "tree.print_dfs()"
   ]
  },
  {
   "cell_type": "code",
   "execution_count": 74,
   "metadata": {},
   "outputs": [
    {
     "data": {
      "text/plain": [
       "'5(1)-8(2)-12(3)-18(1)'"
      ]
     },
     "execution_count": 74,
     "metadata": {},
     "output_type": "execute_result"
    }
   ],
   "source": [
    "tree.insert(5)\n",
    "tree.print_dfs()"
   ]
  },
  {
   "cell_type": "code",
   "execution_count": 75,
   "metadata": {},
   "outputs": [
    {
     "data": {
      "text/plain": [
       "'5(1)-8(2)-12(3)-17(1)-18(2)'"
      ]
     },
     "execution_count": 75,
     "metadata": {},
     "output_type": "execute_result"
    }
   ],
   "source": [
    "tree.insert(17)\n",
    "tree.print_dfs()"
   ]
  },
  {
   "cell_type": "code",
   "execution_count": 76,
   "metadata": {},
   "outputs": [
    {
     "name": "stdout",
     "output_type": "stream",
     "text": [
      "LR\n"
     ]
    },
    {
     "data": {
      "text/plain": [
       "'5(1)-7(2)-8(1)-12(3)-17(1)-18(2)'"
      ]
     },
     "execution_count": 76,
     "metadata": {},
     "output_type": "execute_result"
    }
   ],
   "source": [
    "tree.insert(7)\n",
    "tree.print_dfs()"
   ]
  },
  {
   "cell_type": "markdown",
   "metadata": {},
   "source": [
    "##### Kết quả đúng\n",
    "\n",
    "### Test Trường hợp cây bị mất cân bằng RR\n",
    "* Mất cân bằng phải phải (R-R):\n",
    "![alt](RR.png)"
   ]
  },
  {
   "cell_type": "code",
   "execution_count": 77,
   "metadata": {},
   "outputs": [],
   "source": [
    "tree = AVLTree(12)"
   ]
  },
  {
   "cell_type": "code",
   "execution_count": 78,
   "metadata": {},
   "outputs": [
    {
     "data": {
      "text/plain": [
       "'8(1)-12(2)'"
      ]
     },
     "execution_count": 78,
     "metadata": {},
     "output_type": "execute_result"
    }
   ],
   "source": [
    "tree.insert(8)\n",
    "tree.print_dfs()"
   ]
  },
  {
   "cell_type": "code",
   "execution_count": 79,
   "metadata": {},
   "outputs": [
    {
     "data": {
      "text/plain": [
       "'8(1)-12(2)-18(1)'"
      ]
     },
     "execution_count": 79,
     "metadata": {},
     "output_type": "execute_result"
    }
   ],
   "source": [
    "tree.insert(18)\n",
    "tree.print_dfs()"
   ]
  },
  {
   "cell_type": "code",
   "execution_count": 80,
   "metadata": {},
   "outputs": [
    {
     "data": {
      "text/plain": [
       "'5(1)-8(2)-12(3)-18(1)'"
      ]
     },
     "execution_count": 80,
     "metadata": {},
     "output_type": "execute_result"
    }
   ],
   "source": [
    "tree.insert(5)\n",
    "tree.print_dfs()"
   ]
  },
  {
   "cell_type": "code",
   "execution_count": 81,
   "metadata": {},
   "outputs": [
    {
     "data": {
      "text/plain": [
       "'5(1)-8(2)-11(1)-12(3)-18(1)'"
      ]
     },
     "execution_count": 81,
     "metadata": {},
     "output_type": "execute_result"
    }
   ],
   "source": [
    "tree.insert(11)\n",
    "tree.print_dfs()"
   ]
  },
  {
   "cell_type": "code",
   "execution_count": 82,
   "metadata": {},
   "outputs": [
    {
     "data": {
      "text/plain": [
       "'5(1)-8(2)-11(1)-12(3)-18(2)-22(1)'"
      ]
     },
     "execution_count": 82,
     "metadata": {},
     "output_type": "execute_result"
    }
   ],
   "source": [
    "tree.insert(22)\n",
    "tree.print_dfs()"
   ]
  },
  {
   "cell_type": "code",
   "execution_count": 83,
   "metadata": {},
   "outputs": [
    {
     "data": {
      "text/plain": [
       "'4(1)-5(2)-8(3)-11(1)-12(4)-18(2)-22(1)'"
      ]
     },
     "execution_count": 83,
     "metadata": {},
     "output_type": "execute_result"
    }
   ],
   "source": [
    "tree.insert(4)\n",
    "tree.print_dfs()"
   ]
  },
  {
   "cell_type": "code",
   "execution_count": 84,
   "metadata": {},
   "outputs": [
    {
     "data": {
      "text/plain": [
       "'4(1)-5(2)-7(1)-8(3)-11(1)-12(4)-18(2)-22(1)'"
      ]
     },
     "execution_count": 84,
     "metadata": {},
     "output_type": "execute_result"
    }
   ],
   "source": [
    "tree.insert(7)\n",
    "tree.print_dfs()"
   ]
  },
  {
   "cell_type": "code",
   "execution_count": 85,
   "metadata": {},
   "outputs": [
    {
     "name": "stdout",
     "output_type": "stream",
     "text": [
      "RR\n"
     ]
    },
    {
     "data": {
      "text/plain": [
       "'4(1)-5(2)-7(1)-8(3)-11(1)-12(4)-18(1)-22(2)-25(1)'"
      ]
     },
     "execution_count": 85,
     "metadata": {},
     "output_type": "execute_result"
    }
   ],
   "source": [
    "tree.insert(25)\n",
    "tree.print_dfs()"
   ]
  },
  {
   "cell_type": "markdown",
   "metadata": {},
   "source": [
    "##### Kết quả đúng\n",
    "\n",
    "### Test Trường hợp cây bị mất cân bằng RL\n",
    "* Mất cân bằng phải trái (R-L):\n",
    "![alt](RL.png)"
   ]
  },
  {
   "cell_type": "code",
   "execution_count": 86,
   "metadata": {},
   "outputs": [],
   "source": [
    "tree = AVLTree(12)"
   ]
  },
  {
   "cell_type": "code",
   "execution_count": 87,
   "metadata": {},
   "outputs": [
    {
     "data": {
      "text/plain": [
       "'8(1)-12(2)'"
      ]
     },
     "execution_count": 87,
     "metadata": {},
     "output_type": "execute_result"
    }
   ],
   "source": [
    "tree.insert(8)\n",
    "tree.print_dfs()"
   ]
  },
  {
   "cell_type": "code",
   "execution_count": 88,
   "metadata": {},
   "outputs": [
    {
     "data": {
      "text/plain": [
       "'8(1)-12(2)-18(1)'"
      ]
     },
     "execution_count": 88,
     "metadata": {},
     "output_type": "execute_result"
    }
   ],
   "source": [
    "tree.insert(18)\n",
    "tree.print_dfs()"
   ]
  },
  {
   "cell_type": "code",
   "execution_count": 89,
   "metadata": {},
   "outputs": [
    {
     "data": {
      "text/plain": [
       "'5(1)-8(2)-12(3)-18(1)'"
      ]
     },
     "execution_count": 89,
     "metadata": {},
     "output_type": "execute_result"
    }
   ],
   "source": [
    "tree.insert(5)\n",
    "tree.print_dfs()"
   ]
  },
  {
   "cell_type": "code",
   "execution_count": 90,
   "metadata": {},
   "outputs": [
    {
     "data": {
      "text/plain": [
       "'5(1)-8(2)-11(1)-12(3)-18(1)'"
      ]
     },
     "execution_count": 90,
     "metadata": {},
     "output_type": "execute_result"
    }
   ],
   "source": [
    "tree.insert(11)\n",
    "tree.print_dfs()"
   ]
  },
  {
   "cell_type": "code",
   "execution_count": 91,
   "metadata": {},
   "outputs": [
    {
     "data": {
      "text/plain": [
       "'5(1)-8(2)-11(1)-12(3)-18(2)-22(1)'"
      ]
     },
     "execution_count": 91,
     "metadata": {},
     "output_type": "execute_result"
    }
   ],
   "source": [
    "tree.insert(22)\n",
    "tree.print_dfs()"
   ]
  },
  {
   "cell_type": "code",
   "execution_count": 92,
   "metadata": {},
   "outputs": [
    {
     "data": {
      "text/plain": [
       "'4(1)-5(2)-8(3)-11(1)-12(4)-18(2)-22(1)'"
      ]
     },
     "execution_count": 92,
     "metadata": {},
     "output_type": "execute_result"
    }
   ],
   "source": [
    "tree.insert(4)\n",
    "tree.print_dfs()"
   ]
  },
  {
   "cell_type": "code",
   "execution_count": 93,
   "metadata": {},
   "outputs": [
    {
     "data": {
      "text/plain": [
       "'4(1)-5(2)-7(1)-8(3)-11(1)-12(4)-18(2)-22(1)'"
      ]
     },
     "execution_count": 93,
     "metadata": {},
     "output_type": "execute_result"
    }
   ],
   "source": [
    "tree.insert(7)\n",
    "tree.print_dfs()"
   ]
  },
  {
   "cell_type": "code",
   "execution_count": 94,
   "metadata": {},
   "outputs": [
    {
     "name": "stdout",
     "output_type": "stream",
     "text": [
      "RL\n"
     ]
    },
    {
     "data": {
      "text/plain": [
       "'4(1)-5(2)-7(1)-8(3)-11(1)-12(4)-18(1)-20(2)-22(1)'"
      ]
     },
     "execution_count": 94,
     "metadata": {},
     "output_type": "execute_result"
    }
   ],
   "source": [
    "tree.insert(20)\n",
    "tree.print_dfs()"
   ]
  }
 ],
 "metadata": {
  "kernelspec": {
   "display_name": "Python 3",
   "language": "python",
   "name": "python3"
  },
  "language_info": {
   "codemirror_mode": {
    "name": "ipython",
    "version": 3
   },
   "file_extension": ".py",
   "mimetype": "text/x-python",
   "name": "python",
   "nbconvert_exporter": "python",
   "pygments_lexer": "ipython3",
   "version": "3.7.3"
  }
 },
 "nbformat": 4,
 "nbformat_minor": 2
}
