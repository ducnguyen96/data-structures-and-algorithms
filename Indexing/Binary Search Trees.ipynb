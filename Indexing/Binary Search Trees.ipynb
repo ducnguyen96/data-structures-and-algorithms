{
 "cells": [
  {
   "cell_type": "code",
   "execution_count": null,
   "metadata": {},
   "outputs": [],
   "source": [
    "class Node(object):\n",
    "    def __init__(self, value):\n",
    "        self.value = value\n",
    "        self.left = None\n",
    "        self.right = None\n",
    "        \n",
    "class BinaryTree(object):\n",
    "    def __init__(self, root = None):\n",
    "        self.root = Node(root)\n",
    "\n",
    "    def search_dfs(self, value):\n",
    "        '''\n",
    "        Sử  dụng đệ quy lên DFS\n",
    "        '''\n",
    "        return self.dfs(self.root, value)\n",
    "    \n",
    "    def dfs(self, start, value):\n",
    "        '''\n",
    "        Depth First Search\n",
    "        '''\n",
    "        if start:\n",
    "            if start.value == value:\n",
    "                return True\n",
    "            else:\n",
    "                return self.dfs(start.left, value) or self.dfs(start.right, value)\n",
    "        else:\n",
    "            return False\n",
    "    \n",
    "    def print_dfs(self):\n",
    "        return self.print_helper(self.root, \"\")[:-1]\n",
    "    \n",
    "    def print_helper(self, start, traversal):\n",
    "        if start:\n",
    "            traversal = self.print_helper(start.left, traversal)\n",
    "            traversal += (str(start.value) + \"-\")\n",
    "            traversal = self.print_helper(start.right, traversal)\n",
    "        return traversal"
   ]
  },
  {
   "cell_type": "code",
   "execution_count": 15,
   "metadata": {},
   "outputs": [],
   "source": [
    "class Node(object):\n",
    "    def __init__(self, value):\n",
    "        self.value = value\n",
    "        self.left = None\n",
    "        self.right = None\n",
    "        \n",
    "class BinaryTree(object):\n",
    "    def __init__(self, root):\n",
    "        self.root = Node(root)\n",
    "        self.parent = None\n",
    "        self.child = None\n",
    "    def insert(self, new_values):\n",
    "        node = Node(new_values)\n",
    "        current = self.root\n",
    "        if current:\n",
    "            self.insert_helper(current, node)\n",
    "        else:\n",
    "            current = node\n",
    "\n",
    "    def insert_helper(self, current, node):\n",
    "        if node.value < current.value:\n",
    "            if current.left == None:\n",
    "                current.left = node\n",
    "            else:\n",
    "                self.insert_helper(current.left, node)\n",
    "        else:\n",
    "            if current.right == None:\n",
    "                current.right = node\n",
    "            else:\n",
    "                self.insert_helper(current.right, node)\n",
    "    def search(self, value):\n",
    "        if self.root.value == value:\n",
    "            return self.root, self.root\n",
    "        self.parent = None\n",
    "        self.search_helper(self.root, value)\n",
    "        return self.parent, self.child\n",
    "    \n",
    "    def search_helper(self, current, value):\n",
    "        '''\n",
    "        Tìm trong Tree xem có node nào mang giá trị value không\n",
    "        Nếu có trả về parent của nó, nếu không thì trả về None.\n",
    "        '''\n",
    "        if current:\n",
    "            if current.value == value:\n",
    "                self.child = current\n",
    "                return True\n",
    "            elif current.value < value:\n",
    "                if self.search_helper(current.right, value) and self.parent == None:\n",
    "                    self.parent = current\n",
    "            else:\n",
    "                if self.search_helper(current.left, value) and self.parent == None:\n",
    "                    self.parent = current\n",
    "        return False\n",
    "    \n",
    "    def print_dfs(self):\n",
    "        return self.print_helper(self.root, \"\")[:-1]\n",
    "    \n",
    "    def print_helper(self, start, traversal):\n",
    "        if start:\n",
    "            traversal = self.print_helper(start.left, traversal)\n",
    "            traversal += (str(start.value) + \"-\")\n",
    "            traversal = self.print_helper(start.right, traversal)\n",
    "        return traversal\n",
    "    \n",
    "    def delete(self, value):\n",
    "        parent, child = self.search(value)\n",
    "        if child == None:\n",
    "            print(\"Not found !\") \n",
    "        else:\n",
    "            if child.right == None and child.left == None:\n",
    "                print(\"%d have no child !\" %child.value)\n",
    "                print(\"%d is its parent !\" %parent.value)\n",
    "                if child.value < parent.value:\n",
    "                    parent.left = None\n",
    "                elif child == parent:\n",
    "                    self.root = None\n",
    "                else:\n",
    "                    parent.right = None\n",
    "            elif child.right == None and child.left != None:\n",
    "                print(\"%d have 1 child Left !\" %child.value)\n",
    "                print(\"%d is its parent !\" %parent.value)\n",
    "                if child.value < parent.value:\n",
    "                    parent.left = child.left\n",
    "                elif child == parent:\n",
    "                    self.root = child.left\n",
    "                else:\n",
    "                    parent.right = child.left\n",
    "            elif child.right != None and child.left == None:\n",
    "                print(\"%d have 1 child Right !\" %child.value)\n",
    "                print(\"%d is its parent !\" %parent.value)\n",
    "                if child.value < parent.value:\n",
    "                    parent.left = child.right\n",
    "                elif parent == child:\n",
    "                    self.root = child.right\n",
    "                else:\n",
    "                    parent.right = child.right\n",
    "                    \n",
    "            elif child.right != None and child.left != None:\n",
    "                print(\"%d have 2 children !\" %child.value)\n",
    "                print(\"%d is its parent !\" %parent.value)\n",
    "                parent_max, max_left = self.delete_helper(child.left, child)\n",
    "                print(\"max_left = \", max_left.value, \"  parent = \", parent_max.value)\n",
    "                self.delete(max_left.value)\n",
    "                child.value = max_left.value             \n",
    "                \n",
    "    def delete_helper(self, current, parent):\n",
    "        current = current\n",
    "        parent = parent\n",
    "        while current.right != None:\n",
    "            parent = current\n",
    "            current = current.right\n",
    "        return parent, current"
   ]
  },
  {
   "cell_type": "code",
   "execution_count": 16,
   "metadata": {},
   "outputs": [],
   "source": [
    "# Tree Set up\n",
    "tree = BinaryTree(50)\n",
    "tree.insert(100)\n",
    "tree.insert(40)\n",
    "tree.insert(45)\n",
    "tree.insert(56)\n",
    "tree.insert(67)\n",
    "tree.insert(45)\n",
    "tree.insert(30)\n",
    "tree.insert(25)\n",
    "tree.insert(28)\n",
    "tree.insert(60)\n",
    "tree.insert(110)"
   ]
  },
  {
   "cell_type": "code",
   "execution_count": 17,
   "metadata": {},
   "outputs": [
    {
     "data": {
      "text/plain": [
       "'25-28-30-40-45-45-50-56-60-67-100-110'"
      ]
     },
     "execution_count": 17,
     "metadata": {},
     "output_type": "execute_result"
    }
   ],
   "source": [
    "tree.print_dfs()"
   ]
  },
  {
   "cell_type": "code",
   "execution_count": 18,
   "metadata": {},
   "outputs": [
    {
     "name": "stdout",
     "output_type": "stream",
     "text": [
      "28 have no child !\n",
      "25 is its parent !\n"
     ]
    },
    {
     "data": {
      "text/plain": [
       "'25-30-40-45-45-50-56-60-67-100-110'"
      ]
     },
     "execution_count": 18,
     "metadata": {},
     "output_type": "execute_result"
    }
   ],
   "source": [
    "tree.delete(28)\n",
    "tree.print_dfs()"
   ]
  },
  {
   "cell_type": "code",
   "execution_count": 19,
   "metadata": {},
   "outputs": [
    {
     "name": "stdout",
     "output_type": "stream",
     "text": [
      "100 have 2 children !\n",
      "50 is its parent !\n",
      "max_left =  67   parent =  56\n",
      "67 have 1 child Left !\n",
      "56 is its parent !\n"
     ]
    },
    {
     "data": {
      "text/plain": [
       "'25-30-40-45-45-50-56-60-67-110'"
      ]
     },
     "execution_count": 19,
     "metadata": {},
     "output_type": "execute_result"
    }
   ],
   "source": [
    "tree.delete(100)\n",
    "tree.print_dfs()"
   ]
  },
  {
   "cell_type": "code",
   "execution_count": 20,
   "metadata": {},
   "outputs": [
    {
     "name": "stdout",
     "output_type": "stream",
     "text": [
      "67 have 2 children !\n",
      "50 is its parent !\n",
      "max_left =  60   parent =  56\n",
      "60 have no child !\n",
      "56 is its parent !\n"
     ]
    },
    {
     "data": {
      "text/plain": [
       "'25-30-40-45-45-50-56-60-110'"
      ]
     },
     "execution_count": 20,
     "metadata": {},
     "output_type": "execute_result"
    }
   ],
   "source": [
    "tree.delete(67)\n",
    "tree.print_dfs()"
   ]
  },
  {
   "cell_type": "code",
   "execution_count": 21,
   "metadata": {},
   "outputs": [
    {
     "name": "stdout",
     "output_type": "stream",
     "text": [
      "40 have 2 children !\n",
      "50 is its parent !\n",
      "max_left =  30   parent =  40\n",
      "30 have 1 child Left !\n",
      "40 is its parent !\n"
     ]
    },
    {
     "data": {
      "text/plain": [
       "'25-30-45-45-50-56-60-110'"
      ]
     },
     "execution_count": 21,
     "metadata": {},
     "output_type": "execute_result"
    }
   ],
   "source": [
    "tree.delete(40)\n",
    "tree.print_dfs()"
   ]
  },
  {
   "cell_type": "code",
   "execution_count": 22,
   "metadata": {},
   "outputs": [
    {
     "name": "stdout",
     "output_type": "stream",
     "text": [
      "45 have 1 child Right !\n",
      "30 is its parent !\n"
     ]
    },
    {
     "data": {
      "text/plain": [
       "'25-30-45-50-56-60-110'"
      ]
     },
     "execution_count": 22,
     "metadata": {},
     "output_type": "execute_result"
    }
   ],
   "source": [
    "tree.delete(45)\n",
    "tree.print_dfs()"
   ]
  },
  {
   "cell_type": "code",
   "execution_count": 23,
   "metadata": {},
   "outputs": [
    {
     "name": "stdout",
     "output_type": "stream",
     "text": [
      "50 have 2 children !\n",
      "50 is its parent !\n",
      "max_left =  45   parent =  30\n",
      "45 have no child !\n",
      "30 is its parent !\n"
     ]
    },
    {
     "data": {
      "text/plain": [
       "'25-30-45-56-60-110'"
      ]
     },
     "execution_count": 23,
     "metadata": {},
     "output_type": "execute_result"
    }
   ],
   "source": [
    "tree.delete(50)\n",
    "tree.print_dfs()"
   ]
  },
  {
   "cell_type": "code",
   "execution_count": 24,
   "metadata": {},
   "outputs": [
    {
     "name": "stdout",
     "output_type": "stream",
     "text": [
      "45 have 2 children !\n",
      "45 is its parent !\n",
      "max_left =  30   parent =  45\n",
      "30 have 1 child Left !\n",
      "45 is its parent !\n"
     ]
    },
    {
     "data": {
      "text/plain": [
       "'25-30-56-60-110'"
      ]
     },
     "execution_count": 24,
     "metadata": {},
     "output_type": "execute_result"
    }
   ],
   "source": [
    "tree.delete(45)\n",
    "tree.print_dfs()"
   ]
  },
  {
   "cell_type": "code",
   "execution_count": 25,
   "metadata": {},
   "outputs": [
    {
     "name": "stdout",
     "output_type": "stream",
     "text": [
      "60 have 2 children !\n",
      "30 is its parent !\n",
      "max_left =  56   parent =  60\n",
      "56 have no child !\n",
      "60 is its parent !\n"
     ]
    },
    {
     "data": {
      "text/plain": [
       "'25-30-56-110'"
      ]
     },
     "execution_count": 25,
     "metadata": {},
     "output_type": "execute_result"
    }
   ],
   "source": [
    "tree.delete(60)\n",
    "tree.print_dfs()"
   ]
  },
  {
   "cell_type": "code",
   "execution_count": 26,
   "metadata": {},
   "outputs": [
    {
     "name": "stdout",
     "output_type": "stream",
     "text": [
      "30 have 2 children !\n",
      "30 is its parent !\n",
      "max_left =  25   parent =  30\n",
      "25 have no child !\n",
      "30 is its parent !\n"
     ]
    },
    {
     "data": {
      "text/plain": [
       "'25-56-110'"
      ]
     },
     "execution_count": 26,
     "metadata": {},
     "output_type": "execute_result"
    }
   ],
   "source": [
    "tree.delete(30)\n",
    "tree.print_dfs()"
   ]
  },
  {
   "cell_type": "code",
   "execution_count": 27,
   "metadata": {},
   "outputs": [
    {
     "name": "stdout",
     "output_type": "stream",
     "text": [
      "56 have 1 child Right !\n",
      "25 is its parent !\n"
     ]
    },
    {
     "data": {
      "text/plain": [
       "'25-110'"
      ]
     },
     "execution_count": 27,
     "metadata": {},
     "output_type": "execute_result"
    }
   ],
   "source": [
    "tree.delete(56)\n",
    "tree.print_dfs()"
   ]
  },
  {
   "cell_type": "code",
   "execution_count": 28,
   "metadata": {},
   "outputs": [
    {
     "name": "stdout",
     "output_type": "stream",
     "text": [
      "25 have 1 child Right !\n",
      "25 is its parent !\n"
     ]
    },
    {
     "data": {
      "text/plain": [
       "'110'"
      ]
     },
     "execution_count": 28,
     "metadata": {},
     "output_type": "execute_result"
    }
   ],
   "source": [
    "tree.delete(25)\n",
    "tree.print_dfs()"
   ]
  },
  {
   "cell_type": "code",
   "execution_count": 29,
   "metadata": {},
   "outputs": [
    {
     "name": "stdout",
     "output_type": "stream",
     "text": [
      "110 have no child !\n",
      "110 is its parent !\n"
     ]
    },
    {
     "data": {
      "text/plain": [
       "''"
      ]
     },
     "execution_count": 29,
     "metadata": {},
     "output_type": "execute_result"
    }
   ],
   "source": [
    "tree.delete(110)\n",
    "tree.print_dfs()"
   ]
  },
  {
   "cell_type": "code",
   "execution_count": null,
   "metadata": {},
   "outputs": [],
   "source": []
  }
 ],
 "metadata": {
  "kernelspec": {
   "display_name": "Python 3",
   "language": "python",
   "name": "python3"
  },
  "language_info": {
   "codemirror_mode": {
    "name": "ipython",
    "version": 3
   },
   "file_extension": ".py",
   "mimetype": "text/x-python",
   "name": "python",
   "nbconvert_exporter": "python",
   "pygments_lexer": "ipython3",
   "version": "3.7.3"
  }
 },
 "nbformat": 4,
 "nbformat_minor": 2
}
