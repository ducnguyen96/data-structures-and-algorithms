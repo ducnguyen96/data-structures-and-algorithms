{
 "cells": [
  {
   "cell_type": "code",
   "execution_count": 1,
   "metadata": {},
   "outputs": [
    {
     "data": {
      "text/plain": [
       "[5, 36, 50, 229, 298, 309, 309, 364, 375, 388, 403, 417, 430, 487, 526, 531]"
      ]
     },
     "execution_count": 1,
     "metadata": {},
     "output_type": "execute_result"
    }
   ],
   "source": [
    "arr = [5, 36, 50, 229, 298, 309, 309, 364, 375, 388, 403, 417, 430, 487, 526, 531]\n",
    "arr"
   ]
  },
  {
   "cell_type": "code",
   "execution_count": 2,
   "metadata": {},
   "outputs": [],
   "source": [
    "def linearSearch(Data, value):\n",
    "    index = 0\n",
    "    step = 0\n",
    "    while index <= len(Data) and Data[index] < value:\n",
    "        index += 1\n",
    "        step += 1\n",
    "    if index >= len(Data) or Data[index] != value:\n",
    "        return -1, step\n",
    "    return index, step"
   ]
  },
  {
   "cell_type": "code",
   "execution_count": 3,
   "metadata": {},
   "outputs": [
    {
     "name": "stdout",
     "output_type": "stream",
     "text": [
      "index = -1,   numbs of step = 9\n"
     ]
    }
   ],
   "source": [
    "index, step = linearSearch(arr, 376)\n",
    "print(\"index = {},   numbs of step = {}\".format(index, step))"
   ]
  },
  {
   "cell_type": "code",
   "execution_count": 4,
   "metadata": {},
   "outputs": [],
   "source": [
    "def binarySearch_v2(Data, value):\n",
    "    if value > Data[-1] or value < Data[0]:\n",
    "        return -1, 1\n",
    "    low = 0\n",
    "    high = len(Data) - 1\n",
    "    step = 0\n",
    "    while low <= high:\n",
    "        mid = (low + high)//2\n",
    "        if Data[mid] == value:\n",
    "            return mid, step\n",
    "        elif Data[mid] < value:\n",
    "            low = mid + 1\n",
    "        else:\n",
    "            high = mid - 1\n",
    "        step += 2\n",
    "    return -1, step"
   ]
  },
  {
   "cell_type": "code",
   "execution_count": 5,
   "metadata": {},
   "outputs": [
    {
     "name": "stdout",
     "output_type": "stream",
     "text": [
      "index = 1,   numbs of step = 4\n"
     ]
    }
   ],
   "source": [
    "index, step = binarySearch_v2(arr, 36)\n",
    "print(\"index = {},   numbs of step = {}\".format(index, step))"
   ]
  },
  {
   "cell_type": "code",
   "execution_count": null,
   "metadata": {},
   "outputs": [],
   "source": []
  }
 ],
 "metadata": {
  "kernelspec": {
   "display_name": "Python 3",
   "language": "python",
   "name": "python3"
  },
  "language_info": {
   "codemirror_mode": {
    "name": "ipython",
    "version": 3
   },
   "file_extension": ".py",
   "mimetype": "text/x-python",
   "name": "python",
   "nbconvert_exporter": "python",
   "pygments_lexer": "ipython3",
   "version": "3.7.3"
  }
 },
 "nbformat": 4,
 "nbformat_minor": 2
}
