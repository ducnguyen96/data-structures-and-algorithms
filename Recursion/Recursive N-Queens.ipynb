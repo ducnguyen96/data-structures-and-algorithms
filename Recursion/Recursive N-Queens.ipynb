{
 "cells": [
  {
   "cell_type": "code",
   "execution_count": 3,
   "metadata": {},
   "outputs": [],
   "source": [
    "def calcQueens(size):\n",
    "    '''\n",
    "    Đầu tiên ta sẽ khởi tạo một bảng chứa vị trí của từng\n",
    "    con hậu, lúc đầu chưa có con hậu nào nên ta sẽ khởi tạo chúng\n",
    "    với giá trị -1.\n",
    "    \n",
    "    Tiếp theo ta sẽ đi đặt thử vị trí từng con 1.\n",
    "    '''\n",
    "    board = [-1]*size\n",
    "    return queens(board, 0, size)\n",
    "\n",
    "def queens(board, current, size):\n",
    "    '''\n",
    "    Ví dụ với size == 4, do có index từ 0 đến 3, nên nếu current == 4\n",
    "    tức là đã đặt được 4 con hậu không ăn nhau rồi nên sẽ trả về  True\n",
    "    \n",
    "    Ta sẽ đặt vị trí các con hậu theo từng cột.\n",
    "    Khi chưa thử đặt hết các vị trí của con hậu cuối thì ta sẽ thử đặt\n",
    "    từng con một theo cột.\n",
    "    \n",
    "    Với khởi đầu là đặt con hậu cột 0(current == 0, con hậu đầu tiên).\n",
    "    Ta sẽ thử đặt nó ở vị trí trong range(size), sau khi đặt thử tại \n",
    "    1 vị trí, ta sẽ kiểm tra trong board từ phần tử  1 đến current-1\n",
    "    có phần tử nào xung đột với current không, nếu có thì tiếp tục vòng\n",
    "    for và tăng vị trí lên 1, nếu không thì đặt phần tử tiếp theo.\n",
    "    '''\n",
    "    if current == size:\n",
    "        print(board)\n",
    "        return True\n",
    "    else:\n",
    "        for i in range(size):\n",
    "            board[current] = i\n",
    "            if noConflicts(board, current):\n",
    "                done = queens(board, current + 1, size)\n",
    "                if done:\n",
    "                    return True\n",
    "        return False\n",
    "\n",
    "def noConflicts(board, current):\n",
    "    '''\n",
    "    Ở đây ta sẽ xét trong board từ phần tử  đầu tiên tới phần tử\n",
    "    current-1 có phần tử nào xung đột với current không.\n",
    "    Có 2 trường hợp 2 con hậu sẽ xung đột:\n",
    "    \n",
    "    1. cùng hàng -> board[i] == board[current]\n",
    "    2. nằm trên cùng 1 đường chéo -> độ lệch hàng giữa 2 con bằng luôn\n",
    "    khoảng cách thứ tự của 2 con.\n",
    "    '''\n",
    "    \n",
    "    for i in range(current):\n",
    "        if board[i] == board[current]:\n",
    "            return False\n",
    "        if current - i == abs(board[current] - board[i]):\n",
    "            return False\n",
    "    return True"
   ]
  },
  {
   "cell_type": "code",
   "execution_count": 9,
   "metadata": {},
   "outputs": [
    {
     "name": "stdout",
     "output_type": "stream",
     "text": [
      "[1, 3, 5, 0, 2, 4]\n"
     ]
    },
    {
     "data": {
      "text/plain": [
       "True"
      ]
     },
     "execution_count": 9,
     "metadata": {},
     "output_type": "execute_result"
    }
   ],
   "source": [
    "calcQueens(6)"
   ]
  },
  {
   "cell_type": "code",
   "execution_count": null,
   "metadata": {},
   "outputs": [],
   "source": []
  }
 ],
 "metadata": {
  "kernelspec": {
   "display_name": "Python 3",
   "language": "python",
   "name": "python3"
  },
  "language_info": {
   "codemirror_mode": {
    "name": "ipython",
    "version": 3
   },
   "file_extension": ".py",
   "mimetype": "text/x-python",
   "name": "python",
   "nbconvert_exporter": "python",
   "pygments_lexer": "ipython3",
   "version": "3.7.3"
  }
 },
 "nbformat": 4,
 "nbformat_minor": 2
}
