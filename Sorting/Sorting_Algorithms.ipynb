{
 "cells": [
  {
   "cell_type": "markdown",
   "metadata": {},
   "source": [
    "![](sorting.png)"
   ]
  },
  {
   "cell_type": "code",
   "execution_count": 1,
   "metadata": {},
   "outputs": [],
   "source": [
    "import time\n",
    "from random import randint"
   ]
  },
  {
   "cell_type": "code",
   "execution_count": 2,
   "metadata": {},
   "outputs": [],
   "source": [
    "def buble_sort(array):\n",
    "    start = time.time()\n",
    "    for i in range(len(array)-1, -1, -1):\n",
    "        for j in range(0, i):\n",
    "            if array[j]>array[j+1]:\n",
    "                array[j], array[j+1] = array[j+1], array[j]\n",
    "    end = time.time()\n",
    "    return array, end - start"
   ]
  },
  {
   "cell_type": "code",
   "execution_count": 91,
   "metadata": {},
   "outputs": [
    {
     "data": {
      "text/plain": [
       "8.338490724563599"
      ]
     },
     "execution_count": 91,
     "metadata": {},
     "output_type": "execute_result"
    }
   ],
   "source": [
    "x = [randint(0, 100) for p in range(0, 10000)]\n",
    "arr, buble_time = buble_sort(x)\n",
    "buble_time"
   ]
  },
  {
   "cell_type": "code",
   "execution_count": 92,
   "metadata": {},
   "outputs": [],
   "source": [
    "def selection_sort(a):\n",
    "    start = time.time()\n",
    "    l = len(a)\n",
    "    for i in range(0, l-1):\n",
    "        minimum = i\n",
    "        for j in range(i+1, l):\n",
    "            if a[j] < a[minimum]:\n",
    "                minimum = j\n",
    "        a[i], a[minimum] = a[minimum], a[i]\n",
    "    end = time.time()\n",
    "    return a, end-start"
   ]
  },
  {
   "cell_type": "code",
   "execution_count": 93,
   "metadata": {},
   "outputs": [
    {
     "data": {
      "text/plain": [
       "4.0183775424957275"
      ]
     },
     "execution_count": 93,
     "metadata": {},
     "output_type": "execute_result"
    }
   ],
   "source": [
    "x = [randint(0, 100) for p in range(0, 10000)]\n",
    "arr, selection_time = selection_sort(x)\n",
    "selection_time"
   ]
  },
  {
   "cell_type": "code",
   "execution_count": 94,
   "metadata": {},
   "outputs": [
    {
     "data": {
      "text/plain": [
       "2.0750889224273195"
      ]
     },
     "execution_count": 94,
     "metadata": {},
     "output_type": "execute_result"
    }
   ],
   "source": [
    "buble_time/selection_time"
   ]
  },
  {
   "cell_type": "code",
   "execution_count": 7,
   "metadata": {},
   "outputs": [],
   "source": [
    "def insertion_sort(a):\n",
    "    start = time.time()\n",
    "    l = len(a)\n",
    "    for i in range(0, l):\n",
    "        temp = a[i]\n",
    "        j = i\n",
    "        while j>0 and temp <a[j-1]:\n",
    "            a[j] = a[j-1]\n",
    "            j -= 1\n",
    "        a[j] = temp\n",
    "    end = time.time()\n",
    "    return a, end-start"
   ]
  },
  {
   "cell_type": "code",
   "execution_count": 95,
   "metadata": {},
   "outputs": [
    {
     "data": {
      "text/plain": [
       "4.626114130020142"
      ]
     },
     "execution_count": 95,
     "metadata": {},
     "output_type": "execute_result"
    }
   ],
   "source": [
    "x = [randint(0, 100) for p in range(0, 10000)]\n",
    "arr, insertion_time = insertion_sort(x)\n",
    "insertion_time"
   ]
  },
  {
   "cell_type": "code",
   "execution_count": 96,
   "metadata": {},
   "outputs": [
    {
     "data": {
      "text/plain": [
       "1.8024827079930459"
      ]
     },
     "execution_count": 96,
     "metadata": {},
     "output_type": "execute_result"
    }
   ],
   "source": [
    "buble_time/insertion_time"
   ]
  },
  {
   "cell_type": "code",
   "execution_count": 97,
   "metadata": {},
   "outputs": [],
   "source": [
    "def merge_sort(a):\n",
    "    start = time.time()\n",
    "    divide(a, 0, len(a))\n",
    "    end = time.time()\n",
    "    return a, end-start\n",
    "\n",
    "def divide(a, start, end):\n",
    "    if start < end - 1:\n",
    "        mid = (start+end)//2\n",
    "        divide(a, start, mid)\n",
    "        divide(a, mid, end)\n",
    "        merge(a, start, mid, end)\n",
    "\n",
    "def merge(a, start, mid, end):\n",
    "    L = a[start:mid]\n",
    "    R = a[mid:end]\n",
    "    L.append(1000)\n",
    "    R.append(1000)\n",
    "    i = j = 0\n",
    "    for k in range(start, end):\n",
    "        if L[i] <= R[j]:\n",
    "            a[k] = L[i]\n",
    "            i += 1\n",
    "        else:\n",
    "            a[k] = R[j]\n",
    "            j += 1"
   ]
  },
  {
   "cell_type": "code",
   "execution_count": 98,
   "metadata": {},
   "outputs": [],
   "source": [
    "a = [randint(0, 100) for p in range(0, 10000)]"
   ]
  },
  {
   "cell_type": "code",
   "execution_count": 99,
   "metadata": {},
   "outputs": [
    {
     "data": {
      "text/plain": [
       "0.03988456726074219"
      ]
     },
     "execution_count": 99,
     "metadata": {},
     "output_type": "execute_result"
    }
   ],
   "source": [
    "arr, merge_time = merge_sort(a)\n",
    "merge_time"
   ]
  },
  {
   "cell_type": "code",
   "execution_count": 100,
   "metadata": {},
   "outputs": [
    {
     "data": {
      "text/plain": [
       "209.06559346755296"
      ]
     },
     "execution_count": 100,
     "metadata": {},
     "output_type": "execute_result"
    }
   ],
   "source": [
    "buble_time/merge_time"
   ]
  },
  {
   "cell_type": "code",
   "execution_count": 101,
   "metadata": {},
   "outputs": [],
   "source": [
    "def quick_sort(a):\n",
    "    start = time.time()\n",
    "    qsort(a, 0, len(a))\n",
    "    end = time.time()\n",
    "    return a, end-start\n",
    "\n",
    "def partition(a, start, end):\n",
    "    i = start + 1\n",
    "    piv = a[start]\n",
    "    for j in range(start + 1, end):\n",
    "        if a[j]<piv:\n",
    "            a[i], a[j] = a[j], a[i]\n",
    "            i += 1\n",
    "    a[start], a[i-1] = a[i-1], a[start]\n",
    "    return i-1\n",
    "\n",
    "def rand_partition(a, start, end):\n",
    "    rand = randint(start, end-1)\n",
    "    a[rand], a[start] = a[start], a[rand]\n",
    "    return partition(a, start, end)\n",
    "    \n",
    "def qsort(a, start, end):\n",
    "    if start < end:\n",
    "        piv_pos = rand_partition(a, start, end)\n",
    "        qsort(a, start, piv_pos)\n",
    "        qsort(a, piv_pos+1, end)"
   ]
  },
  {
   "cell_type": "code",
   "execution_count": 102,
   "metadata": {},
   "outputs": [],
   "source": [
    "a = [randint(0, 100) for p in range(0, 10000)]"
   ]
  },
  {
   "cell_type": "code",
   "execution_count": 103,
   "metadata": {},
   "outputs": [
    {
     "data": {
      "text/plain": [
       "0.07368707656860352"
      ]
     },
     "execution_count": 103,
     "metadata": {},
     "output_type": "execute_result"
    }
   ],
   "source": [
    "arr, quick_time = quick_sort(a)\n",
    "quick_time"
   ]
  },
  {
   "cell_type": "code",
   "execution_count": 104,
   "metadata": {},
   "outputs": [
    {
     "data": {
      "text/plain": [
       "113.16082972568965"
      ]
     },
     "execution_count": 104,
     "metadata": {},
     "output_type": "execute_result"
    }
   ],
   "source": [
    "buble_time/quick_time"
   ]
  },
  {
   "cell_type": "code",
   "execution_count": null,
   "metadata": {},
   "outputs": [],
   "source": []
  }
 ],
 "metadata": {
  "kernelspec": {
   "display_name": "Python 3",
   "language": "python",
   "name": "python3"
  },
  "language_info": {
   "codemirror_mode": {
    "name": "ipython",
    "version": 3
   },
   "file_extension": ".py",
   "mimetype": "text/x-python",
   "name": "python",
   "nbconvert_exporter": "python",
   "pygments_lexer": "ipython3",
   "version": "3.7.3"
  }
 },
 "nbformat": 4,
 "nbformat_minor": 2
}
