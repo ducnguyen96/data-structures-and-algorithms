{
 "cells": [
  {
   "cell_type": "markdown",
   "metadata": {},
   "source": [
    "## Queue Array Implementation"
   ]
  },
  {
   "cell_type": "code",
   "execution_count": 1,
   "metadata": {},
   "outputs": [],
   "source": [
    "class Queue:\n",
    "    def __init__(self, head = None):\n",
    "        self.storage = [head]\n",
    "    \n",
    "    def enqueue(self, new_element):\n",
    "        self.storage.append(new_element)\n",
    "    \n",
    "    def peek(self):\n",
    "        return self.storage[0]\n",
    "    \n",
    "    def dequeue(self):\n",
    "        return self.storage.pop(0)\n",
    "    \n",
    "    def printq(self):\n",
    "        print(self.storage)\n",
    "    \n",
    "# Setup\n",
    "q = Queue(1)\n",
    "q.enqueue(2)\n",
    "q.enqueue(3)"
   ]
  },
  {
   "cell_type": "code",
   "execution_count": 2,
   "metadata": {},
   "outputs": [
    {
     "name": "stdout",
     "output_type": "stream",
     "text": [
      "[1, 2, 3]\n"
     ]
    }
   ],
   "source": [
    "q.printq()"
   ]
  },
  {
   "cell_type": "code",
   "execution_count": 3,
   "metadata": {},
   "outputs": [
    {
     "name": "stdout",
     "output_type": "stream",
     "text": [
      "1\n",
      "[1, 2, 3]\n"
     ]
    }
   ],
   "source": [
    "print(q.peek())\n",
    "q.printq()"
   ]
  },
  {
   "cell_type": "code",
   "execution_count": 4,
   "metadata": {},
   "outputs": [
    {
     "name": "stdout",
     "output_type": "stream",
     "text": [
      "1\n",
      "[2, 3]\n"
     ]
    }
   ],
   "source": [
    "print(q.dequeue())\n",
    "q.printq()"
   ]
  },
  {
   "cell_type": "code",
   "execution_count": 5,
   "metadata": {},
   "outputs": [
    {
     "name": "stdout",
     "output_type": "stream",
     "text": [
      "2\n",
      "[3]\n"
     ]
    }
   ],
   "source": [
    "print(q.dequeue())\n",
    "q.printq()"
   ]
  },
  {
   "cell_type": "code",
   "execution_count": 6,
   "metadata": {},
   "outputs": [
    {
     "name": "stdout",
     "output_type": "stream",
     "text": [
      "3\n",
      "[3]\n"
     ]
    }
   ],
   "source": [
    "print(q.peek())\n",
    "q.printq()"
   ]
  },
  {
   "cell_type": "markdown",
   "metadata": {},
   "source": [
    "## Queue LinkedList Implementation"
   ]
  },
  {
   "cell_type": "code",
   "execution_count": 7,
   "metadata": {},
   "outputs": [],
   "source": [
    "class Element(object):\n",
    "    def __init__(self, value):\n",
    "        self.value = value\n",
    "        self.next = None\n",
    "    \n",
    "class LinkedList(object):\n",
    "    def __init__(self, head = None):\n",
    "        self.head = head\n",
    "        self.tail = head\n",
    "\n",
    "    def insert_last(self, new_element):\n",
    "        '''\n",
    "        Hàm này chèn thêm phần tử  new_element vào tail của ll\n",
    "        1. Nối tail hiện tại với new_element\n",
    "        2. Đổi tail thành new_element.\n",
    "        '''\n",
    "        if self.tail:\n",
    "            self.tail.next = new_element\n",
    "        self.tail = new_element\n",
    "    \n",
    "    def delete_first(self):\n",
    "        '''\n",
    "        Hàm này chuyển phần tử thứ 2 của ll thành phần tử đầu tiên(head)\n",
    "        '''\n",
    "        if self.head:\n",
    "            self.head = self.head.next\n",
    "    \n",
    "    def printll(self):\n",
    "        '''\n",
    "        Hàm này in ra tất cả các element trong ll từ head đến tail\n",
    "        '''\n",
    "        current = self.head\n",
    "        while current != None:\n",
    "            print(current.value)\n",
    "            current = current.next\n",
    "    \n",
    "class Queue(object):\n",
    "    def __init__(self, top=None):\n",
    "        self.ll = LinkedList(top)\n",
    "        \n",
    "    def enqueue(self, new_element):\n",
    "        self.ll.insert_last(new_element)\n",
    "    \n",
    "    def dequeue(self):\n",
    "        self.ll.delete_first()\n",
    "        \n",
    "    def printq(self):\n",
    "        self.ll.printll()       \n",
    "# Set up some Elements\n",
    "e1 = Element(1)\n",
    "e2 = Element(2)\n",
    "e3 = Element(3)\n",
    "e4 = Element(4)\n",
    "\n",
    "# Start setting up a Stack\n",
    "q = Queue(e1)"
   ]
  },
  {
   "cell_type": "code",
   "execution_count": 8,
   "metadata": {},
   "outputs": [],
   "source": [
    "q.enqueue(e3)\n",
    "q.enqueue(e4)"
   ]
  },
  {
   "cell_type": "code",
   "execution_count": 9,
   "metadata": {},
   "outputs": [
    {
     "name": "stdout",
     "output_type": "stream",
     "text": [
      "1\n",
      "3\n",
      "4\n"
     ]
    }
   ],
   "source": [
    "q.printq()"
   ]
  },
  {
   "cell_type": "code",
   "execution_count": 10,
   "metadata": {},
   "outputs": [
    {
     "name": "stdout",
     "output_type": "stream",
     "text": [
      "3\n",
      "4\n"
     ]
    }
   ],
   "source": [
    "q.dequeue()\n",
    "q.printq()"
   ]
  },
  {
   "cell_type": "code",
   "execution_count": 11,
   "metadata": {},
   "outputs": [
    {
     "name": "stdout",
     "output_type": "stream",
     "text": [
      "4\n"
     ]
    }
   ],
   "source": [
    "q.dequeue()\n",
    "q.printq()"
   ]
  },
  {
   "cell_type": "code",
   "execution_count": null,
   "metadata": {},
   "outputs": [],
   "source": []
  }
 ],
 "metadata": {
  "kernelspec": {
   "display_name": "Python 3",
   "language": "python",
   "name": "python3"
  },
  "language_info": {
   "codemirror_mode": {
    "name": "ipython",
    "version": 3
   },
   "file_extension": ".py",
   "mimetype": "text/x-python",
   "name": "python",
   "nbconvert_exporter": "python",
   "pygments_lexer": "ipython3",
   "version": "3.7.3"
  }
 },
 "nbformat": 4,
 "nbformat_minor": 2
}
