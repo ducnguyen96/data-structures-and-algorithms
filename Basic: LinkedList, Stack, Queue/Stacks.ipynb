{
 "cells": [
  {
   "cell_type": "markdown",
   "metadata": {},
   "source": [
    "## Stack Linked List Implementation"
   ]
  },
  {
   "cell_type": "code",
   "execution_count": 1,
   "metadata": {},
   "outputs": [],
   "source": [
    "class Element(object):\n",
    "    def __init__(self, value):\n",
    "        self.value = value\n",
    "        self.next = None\n",
    "    \n",
    "class LinkedList(object):\n",
    "    def __init__(self, head = None):\n",
    "        self.head = head\n",
    "    \n",
    "    def append(self, new_element):\n",
    "        '''\n",
    "        Hàm này append một element mới vào vị trí cuối cùng của ll\n",
    "        1. Chạy từ đầu ll cho đến cuối ll\n",
    "        2. Gắn element tiếp theo là new_element\n",
    "        '''\n",
    "        current = self.head\n",
    "        while current.next != None:\n",
    "            current = current.next\n",
    "        current.next = new_element\n",
    "    \n",
    "    def insert_first(self, new_element):\n",
    "        '''\n",
    "        Hàm này chèn thêm phần tử  new_element vào đầu của ll\n",
    "        1. Phần tử đầu tiên bị chuyển thành thứ 2 nên ta sẽ gắn nó\n",
    "        làm phần tử tiếp theo của new_element\n",
    "        2. Chuyển new_element thành head\n",
    "        '''\n",
    "        if self.head:\n",
    "            new_element.next = self.head\n",
    "        self.head = new_element\n",
    "    \n",
    "    def delete_first(self):\n",
    "        '''\n",
    "        Hàm này chuyển phần tử thứ 2 của ll thành phần tử đầu tiên(head)\n",
    "        '''\n",
    "        if self.head:\n",
    "            self.head = self.head.next\n",
    "    \n",
    "    def printll(self):\n",
    "        '''\n",
    "        Hàm này in ra tất cả các element trong ll từ head đến tail\n",
    "        '''\n",
    "        current = self.head\n",
    "        while current != None:\n",
    "            print(current.value)\n",
    "            current = current.next\n",
    "    \n",
    "class Stack(object):\n",
    "    def __init__(self, top=None):\n",
    "        self.ll = LinkedList(top)\n",
    "        \n",
    "    def push(self, new_element):\n",
    "        self.ll.insert_first(new_element)\n",
    "    \n",
    "    def pop(self):\n",
    "        self.ll.delete_first()\n",
    "        \n",
    "    def append(self, new_element):\n",
    "        self.ll.append(new_element)\n",
    "    \n",
    "# Set up some Elements\n",
    "e1 = Element(1)\n",
    "e2 = Element(2)\n",
    "e3 = Element(3)\n",
    "e4 = Element(4)\n",
    "\n",
    "# Start setting up a Stack\n",
    "stack = Stack(e1)"
   ]
  },
  {
   "cell_type": "code",
   "execution_count": 2,
   "metadata": {},
   "outputs": [
    {
     "name": "stdout",
     "output_type": "stream",
     "text": [
      "1\n"
     ]
    }
   ],
   "source": [
    "stack.ll.printll()"
   ]
  },
  {
   "cell_type": "code",
   "execution_count": 3,
   "metadata": {},
   "outputs": [
    {
     "name": "stdout",
     "output_type": "stream",
     "text": [
      "3\n",
      "1\n"
     ]
    }
   ],
   "source": [
    "stack.push(e3)\n",
    "stack.ll.printll()"
   ]
  },
  {
   "cell_type": "code",
   "execution_count": 4,
   "metadata": {},
   "outputs": [
    {
     "name": "stdout",
     "output_type": "stream",
     "text": [
      "4\n",
      "3\n",
      "1\n"
     ]
    }
   ],
   "source": [
    "stack.push(e4)\n",
    "stack.ll.printll()"
   ]
  },
  {
   "cell_type": "code",
   "execution_count": 5,
   "metadata": {},
   "outputs": [
    {
     "name": "stdout",
     "output_type": "stream",
     "text": [
      "3\n",
      "1\n"
     ]
    }
   ],
   "source": [
    "stack.pop()\n",
    "stack.ll.printll()"
   ]
  },
  {
   "cell_type": "code",
   "execution_count": 6,
   "metadata": {},
   "outputs": [
    {
     "name": "stdout",
     "output_type": "stream",
     "text": [
      "3\n",
      "1\n",
      "2\n"
     ]
    }
   ],
   "source": [
    "stack.append(e2)\n",
    "stack.ll.printll()"
   ]
  },
  {
   "cell_type": "code",
   "execution_count": 7,
   "metadata": {},
   "outputs": [
    {
     "name": "stdout",
     "output_type": "stream",
     "text": [
      "1\n",
      "2\n"
     ]
    }
   ],
   "source": [
    "stack.pop()\n",
    "stack.ll.printll()"
   ]
  },
  {
   "cell_type": "markdown",
   "metadata": {},
   "source": [
    "## Stack Array Implementation"
   ]
  },
  {
   "cell_type": "code",
   "execution_count": 15,
   "metadata": {},
   "outputs": [],
   "source": [
    "class Stack(object):\n",
    "    def __init__(self, head=None):\n",
    "        self.storage = [head]\n",
    "        \n",
    "    def push(self, new_element):\n",
    "        self.storage.append(new_element)\n",
    "    \n",
    "    def pop(self):\n",
    "        self.storage.pop()\n",
    "    \n",
    "    def prints(self):\n",
    "        print(self.storage)\n",
    "\n",
    "# Start setting up a Stack\n",
    "stack = Stack(1)"
   ]
  },
  {
   "cell_type": "code",
   "execution_count": 16,
   "metadata": {},
   "outputs": [
    {
     "name": "stdout",
     "output_type": "stream",
     "text": [
      "[1]\n"
     ]
    }
   ],
   "source": [
    "stack.prints()"
   ]
  },
  {
   "cell_type": "code",
   "execution_count": 17,
   "metadata": {},
   "outputs": [
    {
     "name": "stdout",
     "output_type": "stream",
     "text": [
      "[1, 3]\n"
     ]
    }
   ],
   "source": [
    "stack.push(3)\n",
    "stack.prints()"
   ]
  },
  {
   "cell_type": "code",
   "execution_count": 18,
   "metadata": {},
   "outputs": [
    {
     "name": "stdout",
     "output_type": "stream",
     "text": [
      "[1, 3, 4]\n"
     ]
    }
   ],
   "source": [
    "stack.push(4)\n",
    "stack.prints()"
   ]
  },
  {
   "cell_type": "code",
   "execution_count": 19,
   "metadata": {},
   "outputs": [
    {
     "name": "stdout",
     "output_type": "stream",
     "text": [
      "[1, 3]\n"
     ]
    }
   ],
   "source": [
    "stack.pop()\n",
    "stack.prints()"
   ]
  },
  {
   "cell_type": "code",
   "execution_count": 20,
   "metadata": {},
   "outputs": [
    {
     "name": "stdout",
     "output_type": "stream",
     "text": [
      "[1]\n"
     ]
    }
   ],
   "source": [
    "stack.pop()\n",
    "stack.prints()"
   ]
  },
  {
   "cell_type": "code",
   "execution_count": null,
   "metadata": {},
   "outputs": [],
   "source": []
  }
 ],
 "metadata": {
  "kernelspec": {
   "display_name": "Python 3",
   "language": "python",
   "name": "python3"
  },
  "language_info": {
   "codemirror_mode": {
    "name": "ipython",
    "version": 3
   },
   "file_extension": ".py",
   "mimetype": "text/x-python",
   "name": "python",
   "nbconvert_exporter": "python",
   "pygments_lexer": "ipython3",
   "version": "3.7.3"
  }
 },
 "nbformat": 4,
 "nbformat_minor": 2
}
