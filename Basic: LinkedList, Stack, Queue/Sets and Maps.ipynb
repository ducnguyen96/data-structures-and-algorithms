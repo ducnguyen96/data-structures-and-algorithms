{
 "cells": [
  {
   "cell_type": "markdown",
   "metadata": {},
   "source": [
    "#### 1. Sets\n",
    "A set is comparable to a list.\n",
    "It's a collection of things, but with one big difference.\n",
    "A list has some kind of ordering for its elements, a set doesn't have that but instead doesn't allow for repeated elements.\n",
    "You can think of a set kind of like a bag. You can reach in and pull something out but you'll never know what order you're getting the elements out in.\n",
    "\n",
    "#### 2. Maps\n",
    "A map is a set-based data structure, kind of like an array is a list-based data structure, the keys in a map are a set.\n",
    "The keys of a map, like the words in a dictionary need to be unique, you can have several definitions for the same word stored in the value, but if you have the same word in the dictionary many times, you would randomly pick out a definition when you were first looking. Thus, each key only exists once in a map. And a group of these unique keys without anyorder is called a set.\n",
    "\n",
    "What are maps useful for, other than dictionaries?\n",
    "\n",
    "-> You can use a map for a lot of things that have unique names.For example maybe you have a bunch of information about Udacity courses, you have use the ID as a key and use that to look up more detailed information as values."
   ]
  },
  {
   "cell_type": "code",
   "execution_count": 1,
   "metadata": {},
   "outputs": [],
   "source": [
    "locations = {'North America': {'USA': ['Mountain View']}}\n",
    "locations['Asia'] = {'India': ['Bangalore'], 'China': ['Shanghai']}\n",
    "locations['North America']['USA'].append('Atlanta')\n",
    "locations['Africa'] = {'Egypt': ['Cairo']}"
   ]
  },
  {
   "cell_type": "code",
   "execution_count": 2,
   "metadata": {},
   "outputs": [
    {
     "name": "stdout",
     "output_type": "stream",
     "text": [
      "Atlanta\n",
      "Mountain View\n"
     ]
    }
   ],
   "source": [
    "# Print a list of all cities in the USA in alphabetic order.\n",
    "usa_sorted = sorted(locations['North America']['USA'])\n",
    "for city in usa_sorted:\n",
    "    print(city)"
   ]
  },
  {
   "cell_type": "code",
   "execution_count": 4,
   "metadata": {},
   "outputs": [
    {
     "name": "stdout",
     "output_type": "stream",
     "text": [
      "Bangalore - India\n",
      "Shanghai - China\n"
     ]
    }
   ],
   "source": [
    "# All Cities in Asia, in Alphabetic order, next to the name of the country\n",
    "asia_cities = []\n",
    "for country in locations['Asia'].keys():\n",
    "    city_country = locations['Asia'][country][0] + \" - \" + country\n",
    "    asia_cities.append(city_country)\n",
    "asia_sorted = sorted(asia_cities)\n",
    "for city in asia_sorted:\n",
    "    print(city)"
   ]
  },
  {
   "cell_type": "code",
   "execution_count": null,
   "metadata": {},
   "outputs": [],
   "source": []
  }
 ],
 "metadata": {
  "kernelspec": {
   "display_name": "Python 3",
   "language": "python",
   "name": "python3"
  },
  "language_info": {
   "codemirror_mode": {
    "name": "ipython",
    "version": 3
   },
   "file_extension": ".py",
   "mimetype": "text/x-python",
   "name": "python",
   "nbconvert_exporter": "python",
   "pygments_lexer": "ipython3",
   "version": "3.7.3"
  }
 },
 "nbformat": 4,
 "nbformat_minor": 2
}
