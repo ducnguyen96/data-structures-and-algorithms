{
 "cells": [
  {
   "cell_type": "markdown",
   "metadata": {},
   "source": [
    "The purpose of graph is to show how different things are connected to one another. It's also sometimes called a network.\n",
    "\n",
    "A graph is similar to a tree in many ways.\n",
    "\n",
    "Graphs have 2 attribute is nodes(or vartices) and edges.\n",
    "\n",
    "In fact, a tree is just a more specific type of graph. Graphs don't really have a root node like trees do"
   ]
  },
  {
   "cell_type": "code",
   "execution_count": 96,
   "metadata": {},
   "outputs": [],
   "source": [
    "class Node(object):\n",
    "    def __init__(self, value):\n",
    "        self.value = value\n",
    "        self.edges = []\n",
    "        \n",
    "class Edge(object):\n",
    "    def __init__(self, value, node_from, node_to):\n",
    "        self.value = value\n",
    "        self.node_from = node_from\n",
    "        self.node_to = node_to\n",
    "        \n",
    "class Graph(object):\n",
    "    def __init__(self, nodes =[], edges =[]):\n",
    "        self.nodes = nodes\n",
    "        self.edges = edges\n",
    "    def insert_node(self, new_node_val):\n",
    "        ''''\n",
    "        insert a new node to graph\n",
    "        '''\n",
    "        new_node = Node(new_node_val)\n",
    "        self.nodes.append(new_node)\n",
    "        \n",
    "    def insert_edge(self, new_edge_val, node_from_val, node_to_val):\n",
    "        from_found = None\n",
    "        to_found = None\n",
    "        '''\n",
    "        Insert một edge mới từ node có giá trị from_val đến node có \n",
    "        giá trị to_val\n",
    "        \n",
    "        1. Đi lần lượt các node có trong list nodes của graph\n",
    "            Nếu có node nào có giá trị == node_from_val thì\n",
    "            gắn node tìm đc vào from_found\n",
    "            \n",
    "            Nếu có node nào có giá trị == node_to_val thì\n",
    "            gắn node đó là node to_found.\n",
    "            \n",
    "        2. Nếu không tìm được from node thì tạo một Node mới với giá \n",
    "            trị đó.\n",
    "            \n",
    "            Tương tự nếu không tìm được to node thì tạo một Node mới\n",
    "            với giá trị là node_to_val\n",
    "            \n",
    "        3. Tạo một Edge mới gắn giữa 2 Node vừa tạo\n",
    "            Gắn Edge vừa tạo lên Node cả 2 Node\n",
    "            Gắn Edge vừa tạo vào Graph\n",
    "        '''\n",
    "        for node in self.nodes:\n",
    "            if node_from_val == node.value:\n",
    "                from_found = node\n",
    "            if node_to_val == node.value:\n",
    "                to_found = node\n",
    "        if from_found == None:\n",
    "            from_found = Node(node_from_val)\n",
    "            self.nodes.append(from_found)\n",
    "        if to_found == None:\n",
    "            to_found = Node(node_to_val)\n",
    "            self.nodes.append(to_found)\n",
    "        new_edge = Edge(new_edge_val, from_found, to_found)\n",
    "        from_found.edges.append(new_edge)\n",
    "        to_found.edges.append(new_edge)\n",
    "        self.edges.append(new_edge)\n",
    "    \n",
    "    def get_edge_list(self):\n",
    "        return [(edge.value, edge.node_from.value, edge.node_to.value) for edge in self.edges]\n",
    "    \n",
    "    def get_adjacency_list(self):\n",
    "        l = len(self.nodes)+1\n",
    "        adjancecy_list = [None]*l\n",
    "        for edge in self.edges:\n",
    "            if adjancecy_list[edge.node_from.value]:\n",
    "                adjancecy_list[edge.node_from.value].append((edge.node_to.value, edge.value))\n",
    "            else:\n",
    "                adjancecy_list[edge.node_from.value] = [(edge.node_to.value, edge.value)]\n",
    "        return adjancecy_list\n",
    "    \n",
    "    def get_adjacency_matrix(self):\n",
    "        l = len(self.nodes)+1\n",
    "        adjancecy_matrix = [[0]*5 for i in range(l)]\n",
    "        for edge in self.edges:\n",
    "            adjancecy_matrix[edge.node_from.value][edge.node_to.value] = edge.value\n",
    "        return adjancecy_matrix"
   ]
  },
  {
   "cell_type": "code",
   "execution_count": 97,
   "metadata": {},
   "outputs": [],
   "source": [
    "graph = Graph()\n",
    "graph.insert_edge(100, 1, 2)\n",
    "graph.insert_edge(101, 1, 3)\n",
    "graph.insert_edge(102, 1, 4)\n",
    "graph.insert_edge(103, 3, 4)"
   ]
  },
  {
   "cell_type": "code",
   "execution_count": 98,
   "metadata": {},
   "outputs": [
    {
     "data": {
      "text/plain": [
       "[(100, 1, 2), (101, 1, 3), (102, 1, 4), (103, 3, 4)]"
      ]
     },
     "execution_count": 98,
     "metadata": {},
     "output_type": "execute_result"
    }
   ],
   "source": [
    "graph.get_edge_list()"
   ]
  },
  {
   "cell_type": "code",
   "execution_count": 99,
   "metadata": {},
   "outputs": [
    {
     "name": "stdout",
     "output_type": "stream",
     "text": [
      "[None, [(2, 100), (3, 101), (4, 102)], None, [(4, 103)], None]\n"
     ]
    }
   ],
   "source": [
    "print(graph.get_adjacency_list())"
   ]
  },
  {
   "cell_type": "code",
   "execution_count": 100,
   "metadata": {},
   "outputs": [
    {
     "name": "stdout",
     "output_type": "stream",
     "text": [
      "[[0, 0, 0, 0, 0], [0, 0, 100, 101, 102], [0, 0, 0, 0, 0], [0, 0, 0, 0, 103], [0, 0, 0, 0, 0]]\n"
     ]
    }
   ],
   "source": [
    "print(graph.get_adjacency_matrix())"
   ]
  },
  {
   "cell_type": "code",
   "execution_count": null,
   "metadata": {},
   "outputs": [],
   "source": []
  }
 ],
 "metadata": {
  "kernelspec": {
   "display_name": "Python 3",
   "language": "python",
   "name": "python3"
  },
  "language_info": {
   "codemirror_mode": {
    "name": "ipython",
    "version": 3
   },
   "file_extension": ".py",
   "mimetype": "text/x-python",
   "name": "python",
   "nbconvert_exporter": "python",
   "pygments_lexer": "ipython3",
   "version": "3.7.3"
  }
 },
 "nbformat": 4,
 "nbformat_minor": 2
}
